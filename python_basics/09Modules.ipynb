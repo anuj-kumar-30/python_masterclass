{
 "cells": [
  {
   "cell_type": "code",
   "execution_count": 1,
   "metadata": {},
   "outputs": [],
   "source": [
    "def hello():\n",
    "    print('Welcome to the club')"
   ]
  },
  {
   "cell_type": "code",
   "execution_count": 13,
   "metadata": {},
   "outputs": [],
   "source": [
    "# local module\n",
    "import greet"
   ]
  },
  {
   "cell_type": "code",
   "execution_count": 14,
   "metadata": {},
   "outputs": [
    {
     "name": "stdout",
     "output_type": "stream",
     "text": [
      "Welcome to the club\n"
     ]
    },
    {
     "ename": "AttributeError",
     "evalue": "module 'greet' has no attribute '_bye'",
     "output_type": "error",
     "traceback": [
      "\u001b[0;31m---------------------------------------------------------------------------\u001b[0m",
      "\u001b[0;31mAttributeError\u001b[0m                            Traceback (most recent call last)",
      "Cell \u001b[0;32mIn [14], line 2\u001b[0m\n\u001b[1;32m      1\u001b[0m greet\u001b[38;5;241m.\u001b[39mhello()\n\u001b[0;32m----> 2\u001b[0m \u001b[43mgreet\u001b[49m\u001b[38;5;241;43m.\u001b[39;49m\u001b[43m_bye\u001b[49m()\n",
      "\u001b[0;31mAttributeError\u001b[0m: module 'greet' has no attribute '_bye'"
     ]
    }
   ],
   "source": [
    "greet.hello()\n",
    "greet._bye()"
   ]
  },
  {
   "cell_type": "code",
   "execution_count": 12,
   "metadata": {},
   "outputs": [
    {
     "ename": "ImportError",
     "evalue": "cannot import name 'bye' from 'greet' (/home/anuj/Desktop/python_masterclass/python_basics/greet.py)",
     "output_type": "error",
     "traceback": [
      "\u001b[0;31m---------------------------------------------------------------------------\u001b[0m",
      "\u001b[0;31mImportError\u001b[0m                               Traceback (most recent call last)",
      "Cell \u001b[0;32mIn [12], line 1\u001b[0m\n\u001b[0;32m----> 1\u001b[0m \u001b[38;5;28;01mfrom\u001b[39;00m \u001b[38;5;21;01mgreet\u001b[39;00m \u001b[38;5;28;01mimport\u001b[39;00m bye\n",
      "\u001b[0;31mImportError\u001b[0m: cannot import name 'bye' from 'greet' (/home/anuj/Desktop/python_masterclass/python_basics/greet.py)"
     ]
    }
   ],
   "source": [
    "from greet import bye"
   ]
  },
  {
   "cell_type": "markdown",
   "metadata": {},
   "source": [
    "### Built-in Module"
   ]
  },
  {
   "cell_type": "code",
   "execution_count": 57,
   "metadata": {},
   "outputs": [
    {
     "data": {
      "text/plain": [
       "1"
      ]
     },
     "execution_count": 57,
     "metadata": {},
     "output_type": "execute_result"
    }
   ],
   "source": [
    "# random\n",
    "import random\n",
    "\n",
    "result = random.randint(1,10) # random int in the range: 1-10\n",
    "result"
   ]
  },
  {
   "cell_type": "code",
   "execution_count": 64,
   "metadata": {},
   "outputs": [
    {
     "data": {
      "text/plain": [
       "(datetime.date(2024, 11, 20),\n",
       " datetime.datetime(2024, 11, 20, 12, 25, 12, 340510))"
      ]
     },
     "execution_count": 64,
     "metadata": {},
     "output_type": "execute_result"
    }
   ],
   "source": [
    "# datetime \n",
    "import datetime\n",
    "today_date = datetime.date.today()\n",
    "current_time = datetime.datetime.now()\n",
    "today_date, current_time"
   ]
  },
  {
   "cell_type": "code",
   "execution_count": null,
   "metadata": {},
   "outputs": [],
   "source": []
  }
 ],
 "metadata": {
  "kernelspec": {
   "display_name": "Python 3",
   "language": "python",
   "name": "python3"
  },
  "language_info": {
   "codemirror_mode": {
    "name": "ipython",
    "version": 3
   },
   "file_extension": ".py",
   "mimetype": "text/x-python",
   "name": "python",
   "nbconvert_exporter": "python",
   "pygments_lexer": "ipython3",
   "version": "3.11.2"
  }
 },
 "nbformat": 4,
 "nbformat_minor": 2
}
